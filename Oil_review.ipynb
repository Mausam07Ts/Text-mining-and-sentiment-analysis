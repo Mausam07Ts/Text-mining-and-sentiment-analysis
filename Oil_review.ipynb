{
  "cells": [
    {
      "cell_type": "code",
      "execution_count": null,
      "id": "3c8fc69e",
      "metadata": {
        "id": "3c8fc69e"
      },
      "outputs": [],
      "source": [
        "# Importing Libraries"
      ]
    },
    {
      "cell_type": "code",
      "execution_count": null,
      "id": "e1c8d9e7",
      "metadata": {
        "id": "e1c8d9e7"
      },
      "outputs": [],
      "source": [
        "from bs4 import BeautifulSoup\n",
        "import requests\n",
        "import pandas as pd\n",
        "import html5lib"
      ]
    },
    {
      "cell_type": "code",
      "execution_count": null,
      "id": "986d6a67",
      "metadata": {
        "id": "986d6a67"
      },
      "outputs": [],
      "source": [
        "url1='https://www.moneycontrol.com/news/tags/crude-oil.html'"
      ]
    },
    {
      "cell_type": "code",
      "execution_count": null,
      "id": "d6d38ee9",
      "metadata": {
        "id": "d6d38ee9"
      },
      "outputs": [],
      "source": [
        "response=requests.get(url1)"
      ]
    },
    {
      "cell_type": "code",
      "execution_count": null,
      "id": "01269fe9",
      "metadata": {
        "id": "01269fe9"
      },
      "outputs": [],
      "source": [
        "response_text = response.text"
      ]
    },
    {
      "cell_type": "code",
      "execution_count": null,
      "id": "c590d5a7",
      "metadata": {
        "id": "c590d5a7"
      },
      "outputs": [],
      "source": [
        "soup = BeautifulSoup(response_text,'html5lib')"
      ]
    },
    {
      "cell_type": "code",
      "execution_count": null,
      "id": "5e419d45",
      "metadata": {
        "id": "5e419d45"
      },
      "outputs": [],
      "source": [
        "#soup"
      ]
    },
    {
      "cell_type": "code",
      "execution_count": null,
      "id": "f173c0ee",
      "metadata": {
        "id": "f173c0ee"
      },
      "outputs": [],
      "source": [
        "res=soup.find_all('h2',{'class':'clearfix'})"
      ]
    },
    {
      "cell_type": "code",
      "execution_count": null,
      "id": "54bfa05e",
      "metadata": {
        "id": "54bfa05e"
      },
      "outputs": [],
      "source": [
        "s=soup.title"
      ]
    },
    {
      "cell_type": "code",
      "execution_count": null,
      "id": "2ef59acf",
      "metadata": {
        "id": "2ef59acf"
      },
      "outputs": [],
      "source": [
        "#print(s.get_text())"
      ]
    },
    {
      "cell_type": "code",
      "execution_count": null,
      "id": "5b0d6dc2",
      "metadata": {
        "id": "5b0d6dc2",
        "outputId": "26df8004-e62b-4be6-c5a6-69aae3bfe2eb"
      },
      "outputs": [
        {
          "name": "stdout",
          "output_type": "stream",
          "text": [
            "['MARKET NEWS', 'Crude oil retreats from multi-year highs after US stock build', 'Crude oil prices retreat after touching fresh 52 week high of Rs 5,956/barrel', 'Saudi Aramco hits $2 trillion valuation on back of higher oil prices', 'Crude oil above Rs 5,800 a barrel, highest since 2014', 'Moneycontrol\\xa0Pro Panorama | Oil prices heat up, add to investors’ headache', 'Crude oil prices rise on high demand, dollar downtick; Brent crosses $81 a barrel', 'OPEC+ seen keeping oil output policy unchanged, company sources say', 'Lex | Oil prices: Opec+ will open taps before key ratio is reached', 'A perfect storm in the energy sector\\xa0', 'Crude oil at multi-year high; what’s the impact on India?', 'Lack of investment, more demand to drive oil price volatility: Report', 'Crude oil prices climb above Rs 5,500/barrel on firm demand, supply concerns; Brent trades above $78/bbl', \"India's crude oil production falls 2.3% in August, gas output rises\", 'Crude oil prices up on supply concerns, higher demand; WTI trades above $70/bbl', 'Crude oil price tumbles 2% on selloff in commodity and equities; Brent trades below $75/bbl', 'Crude oil prices rally 3% on strong demand outlook; sentiments remain upbeat', 'Oil scales six-week high as Storm Nicholas hits US Gulf', 'Oil demand to top pre-pandemic level next year: OPEC', 'Oil falls on worries about weak demand', \"Saudi Arabia's aggressive\\xa0price\\xa0cut in Asian oil prices\\xa0is to regain market share\\xa0\", 'Oil down after deep Saudi price cuts spur demand concerns', 'Crude oil prices lower on demand concerns; WTI trades below $69 a barrel', 'Crude oil trading weak; What’s the OPEC impact on prices?', 'OPEC+ sticks to gradual oil output hikes, ups demand forecast', 'OPEC+ committee expects market to return to surplus in 2022', 'Watch']\n"
          ]
        }
      ],
      "source": [
        "names_1=[]\n",
        "titles = soup.find_all('h2') \n",
        "for title in titles:\n",
        "    names_1.append(title.get_text())\n",
        "print(names)"
      ]
    },
    {
      "cell_type": "code",
      "execution_count": null,
      "id": "cd8fa080",
      "metadata": {
        "id": "cd8fa080"
      },
      "outputs": [],
      "source": [
        "#for i in titles:\n",
        " #   print(i.text)"
      ]
    },
    {
      "cell_type": "code",
      "execution_count": null,
      "id": "f3e4a5db",
      "metadata": {
        "id": "f3e4a5db"
      },
      "outputs": [],
      "source": [
        "data={\"Reviews\":names_1}"
      ]
    },
    {
      "cell_type": "code",
      "execution_count": null,
      "id": "becba75d",
      "metadata": {
        "id": "becba75d"
      },
      "outputs": [],
      "source": [
        "review_1=pd.DataFrame(data)"
      ]
    },
    {
      "cell_type": "code",
      "execution_count": null,
      "id": "583a7fb5",
      "metadata": {
        "id": "583a7fb5"
      },
      "outputs": [],
      "source": [
        "url2='https://www.moneycontrol.com/news/tags/crude-oil.html/page-2/'"
      ]
    },
    {
      "cell_type": "code",
      "execution_count": null,
      "id": "79447326",
      "metadata": {
        "id": "79447326"
      },
      "outputs": [],
      "source": [
        "response=requests.get(url2)\n"
      ]
    },
    {
      "cell_type": "code",
      "execution_count": null,
      "id": "bc6f3101",
      "metadata": {
        "id": "bc6f3101"
      },
      "outputs": [],
      "source": [
        "response_text = response.text"
      ]
    },
    {
      "cell_type": "code",
      "execution_count": null,
      "id": "3d08f637",
      "metadata": {
        "id": "3d08f637"
      },
      "outputs": [],
      "source": [
        "soup = BeautifulSoup(response_text,'html5lib')"
      ]
    },
    {
      "cell_type": "code",
      "execution_count": null,
      "id": "24e38d36",
      "metadata": {
        "id": "24e38d36"
      },
      "outputs": [],
      "source": [
        "#soup"
      ]
    },
    {
      "cell_type": "code",
      "execution_count": null,
      "id": "e41d1cca",
      "metadata": {
        "id": "e41d1cca"
      },
      "outputs": [],
      "source": [
        "res=soup.find_all('h2',{'class':'clearfix'})"
      ]
    },
    {
      "cell_type": "code",
      "execution_count": null,
      "id": "e544f38f",
      "metadata": {
        "id": "e544f38f"
      },
      "outputs": [],
      "source": [
        ""
      ]
    },
    {
      "cell_type": "code",
      "execution_count": null,
      "id": "9ed45769",
      "metadata": {
        "id": "9ed45769",
        "outputId": "157ecce0-1850-495f-9a2b-ab20bd82732b"
      },
      "outputs": [
        {
          "name": "stdout",
          "output_type": "stream",
          "text": [
            "['MARKET NEWS', 'Crude oil retreats from multi-year highs after US stock build', 'Crude oil prices retreat after touching fresh 52 week high of Rs 5,956/barrel', 'Saudi Aramco hits $2 trillion valuation on back of higher oil prices', 'Crude oil above Rs 5,800 a barrel, highest since 2014', 'Moneycontrol\\xa0Pro Panorama | Oil prices heat up, add to investors’ headache', 'Crude oil prices rise on high demand, dollar downtick; Brent crosses $81 a barrel', 'OPEC+ seen keeping oil output policy unchanged, company sources say', 'Lex | Oil prices: Opec+ will open taps before key ratio is reached', 'A perfect storm in the energy sector\\xa0', 'Crude oil at multi-year high; what’s the impact on India?', 'Lack of investment, more demand to drive oil price volatility: Report', 'Crude oil prices climb above Rs 5,500/barrel on firm demand, supply concerns; Brent trades above $78/bbl', \"India's crude oil production falls 2.3% in August, gas output rises\", 'Crude oil prices up on supply concerns, higher demand; WTI trades above $70/bbl', 'Crude oil price tumbles 2% on selloff in commodity and equities; Brent trades below $75/bbl', 'Crude oil prices rally 3% on strong demand outlook; sentiments remain upbeat', 'Oil scales six-week high as Storm Nicholas hits US Gulf', 'Oil demand to top pre-pandemic level next year: OPEC', 'Oil falls on worries about weak demand', \"Saudi Arabia's aggressive\\xa0price\\xa0cut in Asian oil prices\\xa0is to regain market share\\xa0\", 'Oil down after deep Saudi price cuts spur demand concerns', 'Crude oil prices lower on demand concerns; WTI trades below $69 a barrel', 'Crude oil trading weak; What’s the OPEC impact on prices?', 'OPEC+ sticks to gradual oil output hikes, ups demand forecast', 'OPEC+ committee expects market to return to surplus in 2022', 'Watch']\n"
          ]
        }
      ],
      "source": [
        "names=[]\n",
        "titles = soup.find_all('h2') \n",
        "for title in titles:\n",
        "    names.append(title.get_text())\n",
        "print(names)"
      ]
    },
    {
      "cell_type": "code",
      "execution_count": null,
      "id": "a3fee1b1",
      "metadata": {
        "id": "a3fee1b1"
      },
      "outputs": [],
      "source": [
        "data1={\"Reviews\":names}"
      ]
    },
    {
      "cell_type": "code",
      "execution_count": null,
      "id": "3c5486fc",
      "metadata": {
        "id": "3c5486fc"
      },
      "outputs": [],
      "source": [
        "reviews_2=pd.DataFrame(data1)"
      ]
    },
    {
      "cell_type": "code",
      "execution_count": null,
      "id": "725cc80f",
      "metadata": {
        "id": "725cc80f"
      },
      "outputs": [],
      "source": [
        "  #........Not used ......\n",
        "    \n",
        "    \n",
        "    # url2='https://www.moneycontrol.com/news/tags/crude-oil.html/page-2/'\n",
        "   # response=requests.get(url2)\n",
        "   # response_text = response.text\n",
        "    #soup = BeautifulSoup(response_text,'html5lib')\n",
        "   # res=soup.find_all('h2',{'class':'clearfix'})\n",
        "   # titles = soup.find_all('h2') \n",
        "   # for title in titles:\n",
        "    #    print(title.get_text())"
      ]
    },
    {
      "cell_type": "markdown",
      "id": "fa89bbd4",
      "metadata": {
        "id": "fa89bbd4"
      },
      "source": [
        "### combining datframe"
      ]
    },
    {
      "cell_type": "code",
      "execution_count": null,
      "id": "ed4d684d",
      "metadata": {
        "id": "ed4d684d"
      },
      "outputs": [],
      "source": [
        "oil_review=pd.concat([review_1,reviews_2],ignore_index=True)"
      ]
    },
    {
      "cell_type": "markdown",
      "id": "8c42574c",
      "metadata": {
        "id": "8c42574c"
      },
      "source": [
        "#### Converting into csv  "
      ]
    },
    {
      "cell_type": "code",
      "execution_count": null,
      "id": "18336979",
      "metadata": {
        "id": "18336979"
      },
      "outputs": [],
      "source": [
        "oil_review.to_csv('oil_review_unclean.csv')"
      ]
    },
    {
      "cell_type": "code",
      "execution_count": null,
      "id": "7ed04f60",
      "metadata": {
        "id": "7ed04f60",
        "outputId": "e99cc495-4e8d-4415-cbe4-65f4ec7f358d"
      },
      "outputs": [
        {
          "data": {
            "text/html": [
              "<div>\n",
              "<style scoped>\n",
              "    .dataframe tbody tr th:only-of-type {\n",
              "        vertical-align: middle;\n",
              "    }\n",
              "\n",
              "    .dataframe tbody tr th {\n",
              "        vertical-align: top;\n",
              "    }\n",
              "\n",
              "    .dataframe thead th {\n",
              "        text-align: right;\n",
              "    }\n",
              "</style>\n",
              "<table border=\"1\" class=\"dataframe\">\n",
              "  <thead>\n",
              "    <tr style=\"text-align: right;\">\n",
              "      <th></th>\n",
              "      <th>Unnamed: 0</th>\n",
              "      <th>Reviews</th>\n",
              "    </tr>\n",
              "  </thead>\n",
              "  <tbody>\n",
              "    <tr>\n",
              "      <th>0</th>\n",
              "      <td>0</td>\n",
              "      <td>MARKET NEWS</td>\n",
              "    </tr>\n",
              "    <tr>\n",
              "      <th>1</th>\n",
              "      <td>1</td>\n",
              "      <td>Crude oil retreats from multi-year highs after...</td>\n",
              "    </tr>\n",
              "    <tr>\n",
              "      <th>2</th>\n",
              "      <td>2</td>\n",
              "      <td>Crude oil prices retreat after touching fresh ...</td>\n",
              "    </tr>\n",
              "    <tr>\n",
              "      <th>3</th>\n",
              "      <td>3</td>\n",
              "      <td>Saudi Aramco hits $2 trillion valuation on bac...</td>\n",
              "    </tr>\n",
              "    <tr>\n",
              "      <th>4</th>\n",
              "      <td>4</td>\n",
              "      <td>Crude oil above Rs 5,800 a barrel, highest sin...</td>\n",
              "    </tr>\n",
              "  </tbody>\n",
              "</table>\n",
              "</div>"
            ],
            "text/plain": [
              "   Unnamed: 0                                            Reviews\n",
              "0           0                                        MARKET NEWS\n",
              "1           1  Crude oil retreats from multi-year highs after...\n",
              "2           2  Crude oil prices retreat after touching fresh ...\n",
              "3           3  Saudi Aramco hits $2 trillion valuation on bac...\n",
              "4           4  Crude oil above Rs 5,800 a barrel, highest sin..."
            ]
          },
          "execution_count": 116,
          "metadata": {},
          "output_type": "execute_result"
        }
      ],
      "source": [
        "oil_review=pd.read_csv('oil_review_unclean.csv')\n",
        "oil_review.head()"
      ]
    },
    {
      "cell_type": "code",
      "execution_count": null,
      "id": "c2e94a88",
      "metadata": {
        "id": "c2e94a88"
      },
      "outputs": [],
      "source": [
        ""
      ]
    },
    {
      "cell_type": "code",
      "execution_count": null,
      "id": "5ac1c8c3",
      "metadata": {
        "id": "5ac1c8c3"
      },
      "outputs": [],
      "source": [
        ""
      ]
    }
  ],
  "metadata": {
    "kernelspec": {
      "display_name": "Python 3",
      "language": "python",
      "name": "python3"
    },
    "language_info": {
      "codemirror_mode": {
        "name": "ipython",
        "version": 3
      },
      "file_extension": ".py",
      "mimetype": "text/x-python",
      "name": "python",
      "nbconvert_exporter": "python",
      "pygments_lexer": "ipython3",
      "version": "3.8.8"
    },
    "colab": {
      "name": "Oil_review.ipynb",
      "provenance": []
    }
  },
  "nbformat": 4,
  "nbformat_minor": 5
}